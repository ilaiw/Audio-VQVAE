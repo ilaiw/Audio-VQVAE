{
 "cells": [
  {
   "cell_type": "markdown",
   "id": "19df6a7a-c487-4cbd-a770-60861b0ed233",
   "metadata": {},
   "source": [
    "# Audio VQVAE based on Jukebox"
   ]
  },
  {
   "cell_type": "code",
   "execution_count": 1,
   "id": "3e915f6c-c6c3-4fea-bf33-bb94e85b967a",
   "metadata": {},
   "outputs": [],
   "source": [
    "import os\n",
    "import sys\n",
    "import time\n",
    "import random\n",
    "import json\n",
    "from pathlib import Path\n",
    "import numpy as np\n",
    "\n",
    "sys.path.append(os.getcwd())\n",
    "\n",
    "import torch\n",
    "from torch.utils.data import DataLoader\n",
    "\n",
    "import data_load\n",
    "import plot_utils\n",
    "\n",
    "from vqvae import VQVAE\n",
    "from utils.torch_utils import zero_grad, count_parameters, Metrics, get_device\n",
    "\n",
    "from utils.ema import EMA\n",
    "from utils.fp16 import FusedAdam, clipped_grad_scale, grad_norm\n",
    "from hparams import hps, hps_tiny, hps_opt, block_kwargs"
   ]
  },
  {
   "cell_type": "markdown",
   "id": "14e77f77-3e6d-46c1-a29b-afcfdb0b055a",
   "metadata": {},
   "source": [
    "## Setup"
   ]
  },
  {
   "cell_type": "code",
   "execution_count": 2,
   "id": "43a524cc-2ee5-4841-9605-42c674f477fd",
   "metadata": {},
   "outputs": [],
   "source": [
    "time_now = time.strftime(\"%y%m%d-%H%M%S\", time.gmtime())\n",
    "results_dir = Path(os.getcwd()) / f'results-{time_now}'\n",
    "results_dir.mkdir(parents=True, exist_ok=True)"
   ]
  },
  {
   "cell_type": "markdown",
   "id": "75404764-66e1-4184-998b-24b355bc9ec0",
   "metadata": {},
   "source": [
    "## Model"
   ]
  },
  {
   "cell_type": "code",
   "execution_count": 3,
   "id": "0569f33a-be73-46a2-a550-4b2355741172",
   "metadata": {},
   "outputs": [
    {
     "name": "stdout",
     "output_type": "stream",
     "text": [
      "VQVAE model loaded with 303489 params. Device: cpu \n"
     ]
    }
   ],
   "source": [
    "model = VQVAE(\n",
    "    input_shape=(hps.seq_len, 1), down_t=hps.down_t, stride_t=hps.stride_t,\n",
    "    emb_width=hps.emb_width, l_bins=hps.l_bins, mu=hps.l_mu, commit=hps.commit,\n",
    "    spectral=hps.spectral, multispectral=hps.multispectral,\n",
    "    multiplier=hps.hvqvae_multiplier, use_bottleneck=hps.use_bottleneck,\n",
    "    **block_kwargs)\n",
    "\n",
    "device, gpu_name = get_device()\n",
    "model = model.to(device)\n",
    "print(f'VQVAE model loaded with {count_parameters(model)} params. ' \n",
    "      f'Device: {device} {gpu_name}')"
   ]
  },
  {
   "cell_type": "markdown",
   "id": "8a422eaa-44dd-4cb5-831e-f78f3f3cbae0",
   "metadata": {},
   "source": [
    "## Optimizer"
   ]
  },
  {
   "cell_type": "code",
   "execution_count": 4,
   "id": "4d0894aa-b415-4a7c-ac39-f6669723fd83",
   "metadata": {},
   "outputs": [],
   "source": [
    "opt = FusedAdam(model.parameters(), lr=hps_opt.lr,\n",
    "                weight_decay=hps_opt.weight_decay,\n",
    "                betas=(hps_opt.beta1, hps_opt.beta2), eps=hps_opt.eps)\n",
    "\n",
    "def lr_lambda(step):\n",
    "    return (hps_opt.lr_scale * (hps_opt.lr_gamma ** (step // hps_opt.lr_decay))\n",
    "            * min(1.0, step / hps_opt.lr_warmup))\n",
    "\n",
    "shd = torch.optim.lr_scheduler.LambdaLR(opt, lr_lambda)\n",
    "ema = EMA(model.parameters(), mu=hps_opt.mu)\n",
    "forw_kwargs = dict(loss_fn=hps.loss_fn, hps=hps)"
   ]
  },
  {
   "cell_type": "markdown",
   "id": "8b41648b-357b-4a3f-baa6-b768be9e1ebc",
   "metadata": {},
   "source": [
    "## Dataset"
   ]
  },
  {
   "cell_type": "code",
   "execution_count": 5,
   "id": "c3868d53-1311-47fe-bf42-1a2c81eff4c2",
   "metadata": {},
   "outputs": [],
   "source": [
    "test_size = 100\n",
    "batch_size = 16\n",
    "\n",
    "data_dir = Path(os.getcwd()).parent / 'samples' / 'nsynth-test'\n",
    "filenames = list(data_dir.glob('*/*.wav'))\n",
    "random.shuffle(filenames)\n",
    "\n",
    "filenames_test = filenames[:test_size]\n",
    "filenames_train = filenames[test_size:]\n",
    "\n",
    "ds_test = data_load.Dataset(filenames_test)\n",
    "ds_train = data_load.Dataset(filenames_train)"
   ]
  },
  {
   "cell_type": "markdown",
   "id": "c16b0696-2116-403f-bafc-426d86844688",
   "metadata": {},
   "source": [
    "## Test"
   ]
  },
  {
   "cell_type": "code",
   "execution_count": 6,
   "id": "5a69fccc-3013-4534-b92b-3e6ee680ce8b",
   "metadata": {},
   "outputs": [],
   "source": [
    "test_generator = torch.utils.data.DataLoader(ds_test, batch_size=batch_size,\n",
    "                                              shuffle=False, num_workers=0)\n",
    "def test(samples_to_plot=4):\n",
    "    model.eval()\n",
    "    with torch.no_grad():\n",
    "        losses = []\n",
    "        for i, x_eval in enumerate(test_generator):\n",
    "            x_eval = x_eval.unsqueeze(-1).to(device)\n",
    "            x_recon, loss, _metrics = model(x_eval, **forw_kwargs)\n",
    "            _metrics['loss'] = loss = loss.item()  # free graph\n",
    "            losses.append(loss)\n",
    "            metrics.append_metrics(_metrics, suffix=f' test')\n",
    "            \n",
    "            break  # debug\n",
    "    \n",
    "    x_eval = x_eval.cpu().detach().numpy()\n",
    "    x_recon = x_recon.cpu().detach().numpy()\n",
    "\n",
    "    png_path = results_dir / f'test_pred_e{epoch:03}.png'\n",
    "    plot_utils.plot_test_pred(x_eval, x_recon, samples_to_plot, epoch=epoch,\n",
    "                              out_path=png_path)"
   ]
  },
  {
   "cell_type": "markdown",
   "id": "37b10f29-1885-4c1b-9f8b-5da90c61918a",
   "metadata": {},
   "source": [
    "## Train"
   ]
  },
  {
   "cell_type": "code",
   "execution_count": 7,
   "id": "047300df-5886-4232-a47b-0523de624446",
   "metadata": {},
   "outputs": [],
   "source": [
    "train_generator = torch.utils.data.DataLoader(ds_train, batch_size=batch_size,\n",
    "                                              shuffle=True, num_workers=0)\n",
    "metrics = Metrics()\n",
    "epochs = 3\n",
    "for epoch in range(epochs):\n",
    "    for j, x_train in enumerate(train_generator):\n",
    "        if j >= 2:\n",
    "            break\n",
    "        \n",
    "        zero_grad(model)\n",
    "        model.train()\n",
    "        x_train = x_train.unsqueeze(-1).to(device)\n",
    "    \n",
    "        # Forward\n",
    "        x_out, loss, _metrics = model(x_train, **forw_kwargs)\n",
    "    \n",
    "        # Backward\n",
    "        loss.backward()\n",
    "        gn = grad_norm(list(model.parameters()), hps_opt.gn_scale)\n",
    "        opt.step(scale=clipped_grad_scale(gn, hps_opt.clip, hps_opt.gn_scale))\n",
    "    \n",
    "        # Metrics\n",
    "        _metrics['loss'] = loss = loss.item()  # free graph\n",
    "        _metrics['grad_norm'] = gn\n",
    "        metrics.append_metrics(_metrics)\n",
    "\n",
    "        shd.step()\n",
    "        ema.step()\n",
    "\n",
    "        # Evaluate\n",
    "        test()\n",
    "\n",
    "torch.save(model.state_dict(), results_dir / f'model.pth')"
   ]
  },
  {
   "cell_type": "code",
   "execution_count": null,
   "id": "9d5f3d2a-a6ee-434d-b79c-069d5faa8d84",
   "metadata": {},
   "outputs": [],
   "source": []
  },
  {
   "cell_type": "code",
   "execution_count": null,
   "id": "15381c4b-7eb3-4118-b8ba-5a02ff40a4fd",
   "metadata": {},
   "outputs": [],
   "source": []
  },
  {
   "cell_type": "code",
   "execution_count": 14,
   "id": "65bc4f4a-fa90-48fa-bd3d-efd1422eeaf3",
   "metadata": {},
   "outputs": [
    {
     "data": {
      "image/png": "[encoded data removed]",
      "text/plain": [
       "<IPython.core.display.Image object>"
      ]
     },
     "execution_count": 14,
     "metadata": {},
     "output_type": "execute_result"
    }
   ],
   "source": [
    "from IPython.display import Image\n",
    "\n",
    "gif_path = plot_utils.gif_from_pngs(results_dir, prefix='test_pred')\n",
    "Image(gif_path.read_bytes())"
   ]
  },
  {
   "cell_type": "code",
   "execution_count": null,
   "id": "13a2b477-03ad-4e27-9fed-81e0db604fbf",
   "metadata": {},
   "outputs": [],
   "source": []
  },
  {
   "cell_type": "code",
   "execution_count": null,
   "id": "0ea9f60c-1e41-4530-b0e2-fbc63aa14e4f",
   "metadata": {},
   "outputs": [],
   "source": []
  }
 ],
 "metadata": {
  "kernelspec": {
   "display_name": "Music AI",
   "language": "python",
   "name": "musicai"
  },
  "language_info": {
   "codemirror_mode": {
    "name": "ipython",
    "version": 3
   },
   "file_extension": ".py",
   "mimetype": "text/x-python",
   "name": "python",
   "nbconvert_exporter": "python",
   "pygments_lexer": "ipython3",
   "version": "3.12.2"
  }
 },
 "nbformat": 4,
 "nbformat_minor": 5
}
